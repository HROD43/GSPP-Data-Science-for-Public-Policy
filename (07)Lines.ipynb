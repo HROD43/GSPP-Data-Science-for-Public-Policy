{
 "cells": [
  {
   "cell_type": "code",
   "execution_count": 2,
   "metadata": {
    "collapsed": false
   },
   "outputs": [],
   "source": [
    "from shapely.geometry import LineString\n",
    "import pandas as pd\n",
    "import geopandas as gpd\n",
    "import fiona; fiona.supported_drivers"
   ]
  },
  {
   "cell_type": "code",
   "execution_count": 3,
   "metadata": {
    "collapsed": false
   },
   "outputs": [],
   "source": [
    "df = pd.read_csv('taz_to_super_illustration.csv')"
   ]
  },
  {
   "cell_type": "code",
   "execution_count": 5,
   "metadata": {
    "collapsed": false
   },
   "outputs": [
    {
     "data": {
      "text/plain": [
       "12549"
      ]
     },
     "execution_count": 5,
     "metadata": {},
     "output_type": "execute_result"
    }
   ],
   "source": [
    "len(df)"
   ]
  },
  {
   "cell_type": "code",
   "execution_count": 6,
   "metadata": {
    "collapsed": false
   },
   "outputs": [],
   "source": [
    "subset = df[['dest_lon', 'dest_lat']]\n",
    "end = [tuple(x) for x in subset.values]"
   ]
  },
  {
   "cell_type": "code",
   "execution_count": 7,
   "metadata": {
    "collapsed": false
   },
   "outputs": [],
   "source": [
    "subset = df[['home_lon', 'home_lat']]\n",
    "start = [tuple(x) for x in subset.values]"
   ]
  },
  {
   "cell_type": "code",
   "execution_count": 8,
   "metadata": {
    "collapsed": false
   },
   "outputs": [],
   "source": [
    "line = []\n",
    "\n",
    "for i in range(len(start)):\n",
    "    ls = LineString([start[i],end[i]])\n",
    "    line.append(ls)"
   ]
  },
  {
   "cell_type": "code",
   "execution_count": 9,
   "metadata": {
    "collapsed": false
   },
   "outputs": [],
   "source": [
    "df['line'] = line"
   ]
  },
  {
   "cell_type": "code",
   "execution_count": 10,
   "metadata": {
    "collapsed": false
   },
   "outputs": [
    {
     "data": {
      "text/html": [
       "<div>\n",
       "<table border=\"1\" class=\"dataframe\">\n",
       "  <thead>\n",
       "    <tr style=\"text-align: right;\">\n",
       "      <th></th>\n",
       "      <th>HomeTAZfactor</th>\n",
       "      <th>superD_dest</th>\n",
       "      <th>taz_driving</th>\n",
       "      <th>taz_transit</th>\n",
       "      <th>commuter_count</th>\n",
       "      <th>home_lat</th>\n",
       "      <th>home_lon</th>\n",
       "      <th>dest_lat</th>\n",
       "      <th>dest_lon</th>\n",
       "      <th>line</th>\n",
       "    </tr>\n",
       "  </thead>\n",
       "  <tbody>\n",
       "    <tr>\n",
       "      <th>0</th>\n",
       "      <td>2</td>\n",
       "      <td>1.0</td>\n",
       "      <td>7.0</td>\n",
       "      <td>8.0</td>\n",
       "      <td>47</td>\n",
       "      <td>37.791949</td>\n",
       "      <td>-122.401159</td>\n",
       "      <td>37.788718</td>\n",
       "      <td>-122.409001</td>\n",
       "      <td>LINESTRING (-122.401159173913 37.7919493913043...</td>\n",
       "    </tr>\n",
       "    <tr>\n",
       "      <th>1</th>\n",
       "      <td>3</td>\n",
       "      <td>1.0</td>\n",
       "      <td>6.0</td>\n",
       "      <td>5.0</td>\n",
       "      <td>77</td>\n",
       "      <td>37.790804</td>\n",
       "      <td>-122.406266</td>\n",
       "      <td>37.788718</td>\n",
       "      <td>-122.409001</td>\n",
       "      <td>LINESTRING (-122.406266125 37.790803825, -122....</td>\n",
       "    </tr>\n",
       "    <tr>\n",
       "      <th>2</th>\n",
       "      <td>4</td>\n",
       "      <td>1.0</td>\n",
       "      <td>6.0</td>\n",
       "      <td>4.0</td>\n",
       "      <td>23</td>\n",
       "      <td>37.789744</td>\n",
       "      <td>-122.403786</td>\n",
       "      <td>37.788718</td>\n",
       "      <td>-122.409001</td>\n",
       "      <td>LINESTRING (-122.4037862105263 37.789744157894...</td>\n",
       "    </tr>\n",
       "  </tbody>\n",
       "</table>\n",
       "</div>"
      ],
      "text/plain": [
       "   HomeTAZfactor  superD_dest  taz_driving  taz_transit  commuter_count  \\\n",
       "0              2          1.0          7.0          8.0              47   \n",
       "1              3          1.0          6.0          5.0              77   \n",
       "2              4          1.0          6.0          4.0              23   \n",
       "\n",
       "    home_lat    home_lon   dest_lat    dest_lon  \\\n",
       "0  37.791949 -122.401159  37.788718 -122.409001   \n",
       "1  37.790804 -122.406266  37.788718 -122.409001   \n",
       "2  37.789744 -122.403786  37.788718 -122.409001   \n",
       "\n",
       "                                                line  \n",
       "0  LINESTRING (-122.401159173913 37.7919493913043...  \n",
       "1  LINESTRING (-122.406266125 37.790803825, -122....  \n",
       "2  LINESTRING (-122.4037862105263 37.789744157894...  "
      ]
     },
     "execution_count": 10,
     "metadata": {},
     "output_type": "execute_result"
    }
   ],
   "source": [
    "df[:3]"
   ]
  },
  {
   "cell_type": "code",
   "execution_count": 11,
   "metadata": {
    "collapsed": false
   },
   "outputs": [],
   "source": [
    "geo_districts = gpd.GeoDataFrame(df, geometry=line)\n",
    "geo_districts.to_csv('geo_zone_lines.csv')"
   ]
  },
  {
   "cell_type": "code",
   "execution_count": null,
   "metadata": {
    "collapsed": true
   },
   "outputs": [],
   "source": []
  }
 ],
 "metadata": {
  "anaconda-cloud": {},
  "kernelspec": {
   "display_name": "Python [default]",
   "language": "python",
   "name": "python3"
  },
  "language_info": {
   "codemirror_mode": {
    "name": "ipython",
    "version": 3
   },
   "file_extension": ".py",
   "mimetype": "text/x-python",
   "name": "python",
   "nbconvert_exporter": "python",
   "pygments_lexer": "ipython3",
   "version": "3.5.2"
  }
 },
 "nbformat": 4,
 "nbformat_minor": 1
}
