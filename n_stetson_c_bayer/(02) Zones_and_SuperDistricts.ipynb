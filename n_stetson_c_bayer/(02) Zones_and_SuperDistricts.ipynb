{
 "cells": [
  {
   "cell_type": "markdown",
   "metadata": {},
   "source": [
    "In this notebook I will figure out with zones are in which superdistricts.\n",
    "\n",
    "I will merge this information with both the commute flow data and the rental data.\n",
    "\n",
    "Output:\n",
    "    -One file with CL rentals that includes code for zone and superdistrict\n",
    "    -One file with two columns - zone and super district for matching with commute data"
   ]
  },
  {
   "cell_type": "code",
   "execution_count": 1,
   "metadata": {
    "collapsed": true
   },
   "outputs": [],
   "source": [
    "import pandas as pd, geopandas as gpd, matplotlib.pyplot as plt, matplotlib.cm as cm, numpy as np\n",
    "from matplotlib.collections import PatchCollection\n",
    "from descartes import PolygonPatch\n",
    "from shapely.geometry import MultiPolygon, Polygon, Point\n",
    "%matplotlib inline"
   ]
  },
  {
   "cell_type": "code",
   "execution_count": 2,
   "metadata": {
    "collapsed": true
   },
   "outputs": [],
   "source": [
    "# Read in shapefiles for zones and super districts\n",
    "\n",
    "taz = gpd.read_file('Data/SuperShp/bayarea_superdistricts.shp')\n",
    "taz_zones = gpd.read_file('Data/OriginalZoneShp/Communities_of_Concern_TAZ.shp')"
   ]
  },
  {
   "cell_type": "code",
   "execution_count": 3,
   "metadata": {
    "collapsed": false
   },
   "outputs": [
    {
     "name": "stdout",
     "output_type": "stream",
     "text": [
      "   CoCFlag      GEO_ID2                                GlobalID  LowInc_30  \\\n",
      "0        0  06075012100  {65A7FBA7-B655-478C-9248-0F3582B80770}          1   \n",
      "1        1  06075012300  {6B582A52-B64F-4716-8F58-96AB99560124}          1   \n",
      "2        1  06075012500  {FA3728FD-AB54-4546-896E-CBEC4B8FF83A}          1   \n",
      "3        1  06075012400  {F690C928-C472-4240-B0BF-44B778FF99B6}          1   \n",
      "4        1  06075011500  {CEAEEC36-02C5-4B18-BEC3-97A7975FDAF3}          1   \n",
      "\n",
      "   Minority_7  OBJECTID     ShapeSTAre   ShapeSTLen  \\\n",
      "0           0         1  198230.878906  2019.762990   \n",
      "1           0         2  296337.117188  2278.770513   \n",
      "2           0         3  319910.906250  2490.141633   \n",
      "3           0         4  726428.460938  3616.212017   \n",
      "4           1         5  255033.156250  2019.084938   \n",
      "\n",
      "                                            geometry  taz_key  \n",
      "0  POLYGON ((-122.4133839994479 37.78770299971768...        6  \n",
      "1  POLYGON ((-122.4128190004567 37.78488599965646...        7  \n",
      "2  POLYGON ((-122.412516000508 37.7805170003337, ...        8  \n",
      "3  POLYGON ((-122.4190700001247 37.77531399998797...        9  \n",
      "4  POLYGON ((-122.4043269997004 37.79361700007725...       24  \n"
     ]
    }
   ],
   "source": [
    "print(taz_zones.head())\n",
    "# Column of interest is taz_key"
   ]
  },
  {
   "cell_type": "code",
   "execution_count": 4,
   "metadata": {
    "collapsed": false
   },
   "outputs": [
    {
     "data": {
      "text/plain": [
       "1454"
      ]
     },
     "execution_count": 4,
     "metadata": {},
     "output_type": "execute_result"
    }
   ],
   "source": [
    "len(taz_zones)"
   ]
  },
  {
   "cell_type": "code",
   "execution_count": 5,
   "metadata": {
    "collapsed": false
   },
   "outputs": [
    {
     "data": {
      "text/plain": [
       "34"
      ]
     },
     "execution_count": 5,
     "metadata": {},
     "output_type": "execute_result"
    }
   ],
   "source": [
    "len(taz)"
   ]
  },
  {
   "cell_type": "code",
   "execution_count": 6,
   "metadata": {
    "collapsed": false
   },
   "outputs": [
    {
     "name": "stdout",
     "output_type": "stream",
     "text": [
      "    AREALAND   AREAWATER  COUNT  COUNTY   LANDACRE  SUPERD  TOTPOP2000  \\\n",
      "0   21351865   499231994     46       1   5276.161       1      134389   \n",
      "1   33875058   127195091     49       1   8370.710       2      219626   \n",
      "2   51078050     4718589     78       1  12621.662       3      312465   \n",
      "3   78751659  3231042006     34       1  19459.960       4      148678   \n",
      "4  149481962   240621625     58       2  36937.799       5      287437   \n",
      "\n",
      "    WATERACRE                                           geometry  \n",
      "0  123362.918  (POLYGON ((550895.3255083872 4186570.307938436...  \n",
      "1   31430.593  (POLYGON ((542551.6688444372 4181508.071199737...  \n",
      "2    1165.989  (POLYGON ((554542.5729141268 4179392.958145962...  \n",
      "3  798407.901  (POLYGON ((499731.850956357 4172984.909835728,...  \n",
      "4   59458.901  POLYGON ((552046.2235804738 4160293.877120561,...  \n"
     ]
    }
   ],
   "source": [
    "print(taz.head())\n",
    "# Note: column of interest is SUPERD"
   ]
  },
  {
   "cell_type": "markdown",
   "metadata": {},
   "source": [
    "Next couple cells makes sure that the projection is right so they can be merged spatially"
   ]
  },
  {
   "cell_type": "code",
   "execution_count": 7,
   "metadata": {
    "collapsed": false
   },
   "outputs": [
    {
     "data": {
      "text/plain": [
       "{'init': 'epsg:26910'}"
      ]
     },
     "execution_count": 7,
     "metadata": {},
     "output_type": "execute_result"
    }
   ],
   "source": [
    "taz.crs"
   ]
  },
  {
   "cell_type": "code",
   "execution_count": 8,
   "metadata": {
    "collapsed": false
   },
   "outputs": [
    {
     "data": {
      "text/plain": [
       "{'init': 'epsg:4326'}"
      ]
     },
     "execution_count": 8,
     "metadata": {},
     "output_type": "execute_result"
    }
   ],
   "source": [
    "taz_zones.crs"
   ]
  },
  {
   "cell_type": "code",
   "execution_count": 9,
   "metadata": {
    "collapsed": false
   },
   "outputs": [],
   "source": [
    "rentals = pd.read_csv('Data/rents_indexed.csv')\n",
    "geometry = [Point(xy) for xy in zip(rentals.longitude, rentals.latitude)]\n",
    "geo_rentals = gpd.GeoDataFrame(rentals, geometry=geometry)"
   ]
  },
  {
   "cell_type": "code",
   "execution_count": 10,
   "metadata": {
    "collapsed": true
   },
   "outputs": [],
   "source": [
    "# Label CRS to lat/lon \n",
    "\n",
    "original_crs = {'init':'epsg:4326'}\n",
    "geo_rentals.crs = original_crs"
   ]
  },
  {
   "cell_type": "code",
   "execution_count": 11,
   "metadata": {
    "collapsed": false
   },
   "outputs": [
    {
     "name": "stdout",
     "output_type": "stream",
     "text": [
      "{'init': 'epsg:4326'}\n",
      "{'init': 'epsg:4326'}\n",
      "{'init': 'epsg:26910'}\n"
     ]
    }
   ],
   "source": [
    "print(geo_rentals.crs)\n",
    "print(taz_zones.crs)\n",
    "print(taz.crs)"
   ]
  },
  {
   "cell_type": "code",
   "execution_count": 12,
   "metadata": {
    "collapsed": true
   },
   "outputs": [],
   "source": [
    "geo_rentals = geo_rentals.to_crs(taz.crs)\n",
    "taz_zones = taz_zones.to_crs(taz.crs)"
   ]
  },
  {
   "cell_type": "code",
   "execution_count": 13,
   "metadata": {
    "collapsed": false
   },
   "outputs": [
    {
     "name": "stdout",
     "output_type": "stream",
     "text": [
      "{'init': 'epsg:26910'}\n",
      "{'init': 'epsg:26910'}\n",
      "{'init': 'epsg:26910'}\n"
     ]
    }
   ],
   "source": [
    "print(geo_rentals.crs)\n",
    "print(taz_zones.crs)\n",
    "print(taz.crs)"
   ]
  },
  {
   "cell_type": "markdown",
   "metadata": {},
   "source": [
    "Next I use a spatial merge to join the rental data with the zones, so that each rental listing also has a zone listed. Will use this with the commute data later."
   ]
  },
  {
   "cell_type": "markdown",
   "metadata": {},
   "source": [
    "#taz_rentals = gpd.sjoin(geo_rentals, taz, how='left', op='within')\n",
    "\n",
    " Note: For reasons unkown to me, the first sjoin of a notebook works fine, but when I \n",
    " try a second, it takes forever to run and never completes.\n",
    "\n",
    " For this reason, instead of joining rentals with the zones, and then that \n",
    " dataframe with superdistricts, I am first joining the zones with rentals.\n",
    " \n",
    " After that I find the centroid of the zones and join those centroids with the sueprdistricts.\n",
    " This goes quite fast, and avoids another problem - if you intersect the zones with the superdistricts some that\n",
    " seem to be touching the edges aren't counted as in the superdistrict (this is a working hypothesis, not sure what exactly happened but I many of the zones had NaNs for superdistricts when another method was used). "
   ]
  },
  {
   "cell_type": "code",
   "execution_count": 14,
   "metadata": {
    "collapsed": false
   },
   "outputs": [],
   "source": [
    "\n",
    "\n",
    "taz_rentals2 = gpd.sjoin(geo_rentals, taz_zones, how='left', op='within')"
   ]
  },
  {
   "cell_type": "code",
   "execution_count": 15,
   "metadata": {
    "collapsed": false
   },
   "outputs": [
    {
     "data": {
      "text/html": [
       "<div>\n",
       "<table border=\"1\" class=\"dataframe\">\n",
       "  <thead>\n",
       "    <tr style=\"text-align: right;\">\n",
       "      <th></th>\n",
       "      <th>neighborhood</th>\n",
       "      <th>title</th>\n",
       "      <th>rent</th>\n",
       "      <th>bedrooms</th>\n",
       "      <th>pid</th>\n",
       "      <th>date</th>\n",
       "      <th>link</th>\n",
       "      <th>sqft</th>\n",
       "      <th>sourcepage</th>\n",
       "      <th>longitude</th>\n",
       "      <th>...</th>\n",
       "      <th>index_right</th>\n",
       "      <th>CoCFlag</th>\n",
       "      <th>GEO_ID2</th>\n",
       "      <th>GlobalID</th>\n",
       "      <th>LowInc_30</th>\n",
       "      <th>Minority_7</th>\n",
       "      <th>OBJECTID</th>\n",
       "      <th>ShapeSTAre</th>\n",
       "      <th>ShapeSTLen</th>\n",
       "      <th>taz_key</th>\n",
       "    </tr>\n",
       "  </thead>\n",
       "  <tbody>\n",
       "    <tr>\n",
       "      <th>0</th>\n",
       "      <td>oakland north / temescal</td>\n",
       "      <td>2 Brm+ 1 study + 2Ba in enclosed property - To...</td>\n",
       "      <td>2150.0</td>\n",
       "      <td>3.0</td>\n",
       "      <td>4.528973e+09</td>\n",
       "      <td>2014-06-19</td>\n",
       "      <td>http://sfbay.craigslist.org/eby/apa/4528973466...</td>\n",
       "      <td>NaN</td>\n",
       "      <td>http://sfbay.craigslist.org/apa/index1200.html</td>\n",
       "      <td>-122.254525</td>\n",
       "      <td>...</td>\n",
       "      <td>972.0</td>\n",
       "      <td>0.0</td>\n",
       "      <td>06001401200</td>\n",
       "      <td>{7BA880B1-802C-4987-8D07-15E503DE843F}</td>\n",
       "      <td>0.0</td>\n",
       "      <td>0.0</td>\n",
       "      <td>973.0</td>\n",
       "      <td>1.065169e+06</td>\n",
       "      <td>5052.595805</td>\n",
       "      <td>975.0</td>\n",
       "    </tr>\n",
       "    <tr>\n",
       "      <th>1</th>\n",
       "      <td>noe valley</td>\n",
       "      <td>Attractive 2 bed in the heart of Noe Valley wi...</td>\n",
       "      <td>3200.0</td>\n",
       "      <td>2.0</td>\n",
       "      <td>4.493998e+09</td>\n",
       "      <td>2014-05-29</td>\n",
       "      <td>http://sfbay.craigslist.org/sfc/apa/4493998171...</td>\n",
       "      <td>NaN</td>\n",
       "      <td>http://sfbay.craigslist.org/apa/index3200.html</td>\n",
       "      <td>-122.427200</td>\n",
       "      <td>...</td>\n",
       "      <td>77.0</td>\n",
       "      <td>0.0</td>\n",
       "      <td>06075021400</td>\n",
       "      <td>{6AC4217B-FC70-4D79-848B-62F77A7AC89A}</td>\n",
       "      <td>0.0</td>\n",
       "      <td>0.0</td>\n",
       "      <td>78.0</td>\n",
       "      <td>5.589527e+05</td>\n",
       "      <td>3105.877433</td>\n",
       "      <td>97.0</td>\n",
       "    </tr>\n",
       "    <tr>\n",
       "      <th>2</th>\n",
       "      <td>pacific heights</td>\n",
       "      <td>Charming Pacific Heights Edwardian steps to Fi...</td>\n",
       "      <td>1500.0</td>\n",
       "      <td>NaN</td>\n",
       "      <td>4.492178e+09</td>\n",
       "      <td>2014-05-28</td>\n",
       "      <td>http://sfbay.craigslist.org/sfc/apa/4492178358...</td>\n",
       "      <td>NaN</td>\n",
       "      <td>http://sfbay.craigslist.org/apa/index3200.html</td>\n",
       "      <td>-122.437821</td>\n",
       "      <td>...</td>\n",
       "      <td>28.0</td>\n",
       "      <td>0.0</td>\n",
       "      <td>06075013400</td>\n",
       "      <td>{AF5E0F96-CCC0-4DC9-B62F-3CDC32BC7BD6}</td>\n",
       "      <td>0.0</td>\n",
       "      <td>0.0</td>\n",
       "      <td>29.0</td>\n",
       "      <td>5.683611e+05</td>\n",
       "      <td>3256.613653</td>\n",
       "      <td>48.0</td>\n",
       "    </tr>\n",
       "    <tr>\n",
       "      <th>3</th>\n",
       "      <td>mountain view</td>\n",
       "      <td>Charming home in Downtown area. Blocks to Cast...</td>\n",
       "      <td>2995.0</td>\n",
       "      <td>2.0</td>\n",
       "      <td>4.466669e+09</td>\n",
       "      <td>2014-05-15</td>\n",
       "      <td>http://sfbay.craigslist.org/pen/apa/4466668810...</td>\n",
       "      <td>850.0</td>\n",
       "      <td>http://sfbay.craigslist.org/apa/index2900.html</td>\n",
       "      <td>-122.079902</td>\n",
       "      <td>...</td>\n",
       "      <td>372.0</td>\n",
       "      <td>0.0</td>\n",
       "      <td>06085509600</td>\n",
       "      <td>{0AEC9F4F-9FB4-4C9D-AA73-F8AC76C55FAA}</td>\n",
       "      <td>0.0</td>\n",
       "      <td>0.0</td>\n",
       "      <td>373.0</td>\n",
       "      <td>1.624917e+06</td>\n",
       "      <td>6363.483918</td>\n",
       "      <td>378.0</td>\n",
       "    </tr>\n",
       "    <tr>\n",
       "      <th>4</th>\n",
       "      <td>mill valley</td>\n",
       "      <td>Sunny Renovated Home With  Hot Tub Level Yard ...</td>\n",
       "      <td>7500.0</td>\n",
       "      <td>4.0</td>\n",
       "      <td>4.553095e+09</td>\n",
       "      <td>2014-07-06</td>\n",
       "      <td>http://sfbay.craigslist.org/nby/apa/4553095464...</td>\n",
       "      <td>2400.0</td>\n",
       "      <td>http://sfbay.craigslist.org/apa/index500.html</td>\n",
       "      <td>-122.557780</td>\n",
       "      <td>...</td>\n",
       "      <td>1450.0</td>\n",
       "      <td>0.0</td>\n",
       "      <td>06041128200</td>\n",
       "      <td>{750BFCAA-EEDA-4C68-8C1D-ACA99D09F10B}</td>\n",
       "      <td>0.0</td>\n",
       "      <td>0.0</td>\n",
       "      <td>1451.0</td>\n",
       "      <td>6.440696e+06</td>\n",
       "      <td>22855.929170</td>\n",
       "      <td>1451.0</td>\n",
       "    </tr>\n",
       "  </tbody>\n",
       "</table>\n",
       "<p>5 rows × 26 columns</p>\n",
       "</div>"
      ],
      "text/plain": [
       "               neighborhood  \\\n",
       "0  oakland north / temescal   \n",
       "1                noe valley   \n",
       "2           pacific heights   \n",
       "3             mountain view   \n",
       "4               mill valley   \n",
       "\n",
       "                                               title    rent  bedrooms  \\\n",
       "0  2 Brm+ 1 study + 2Ba in enclosed property - To...  2150.0       3.0   \n",
       "1  Attractive 2 bed in the heart of Noe Valley wi...  3200.0       2.0   \n",
       "2  Charming Pacific Heights Edwardian steps to Fi...  1500.0       NaN   \n",
       "3  Charming home in Downtown area. Blocks to Cast...  2995.0       2.0   \n",
       "4  Sunny Renovated Home With  Hot Tub Level Yard ...  7500.0       4.0   \n",
       "\n",
       "            pid        date  \\\n",
       "0  4.528973e+09  2014-06-19   \n",
       "1  4.493998e+09  2014-05-29   \n",
       "2  4.492178e+09  2014-05-28   \n",
       "3  4.466669e+09  2014-05-15   \n",
       "4  4.553095e+09  2014-07-06   \n",
       "\n",
       "                                                link    sqft  \\\n",
       "0  http://sfbay.craigslist.org/eby/apa/4528973466...     NaN   \n",
       "1  http://sfbay.craigslist.org/sfc/apa/4493998171...     NaN   \n",
       "2  http://sfbay.craigslist.org/sfc/apa/4492178358...     NaN   \n",
       "3  http://sfbay.craigslist.org/pen/apa/4466668810...   850.0   \n",
       "4  http://sfbay.craigslist.org/nby/apa/4553095464...  2400.0   \n",
       "\n",
       "                                       sourcepage   longitude   ...    \\\n",
       "0  http://sfbay.craigslist.org/apa/index1200.html -122.254525   ...     \n",
       "1  http://sfbay.craigslist.org/apa/index3200.html -122.427200   ...     \n",
       "2  http://sfbay.craigslist.org/apa/index3200.html -122.437821   ...     \n",
       "3  http://sfbay.craigslist.org/apa/index2900.html -122.079902   ...     \n",
       "4   http://sfbay.craigslist.org/apa/index500.html -122.557780   ...     \n",
       "\n",
       "   index_right  CoCFlag      GEO_ID2                                GlobalID  \\\n",
       "0        972.0      0.0  06001401200  {7BA880B1-802C-4987-8D07-15E503DE843F}   \n",
       "1         77.0      0.0  06075021400  {6AC4217B-FC70-4D79-848B-62F77A7AC89A}   \n",
       "2         28.0      0.0  06075013400  {AF5E0F96-CCC0-4DC9-B62F-3CDC32BC7BD6}   \n",
       "3        372.0      0.0  06085509600  {0AEC9F4F-9FB4-4C9D-AA73-F8AC76C55FAA}   \n",
       "4       1450.0      0.0  06041128200  {750BFCAA-EEDA-4C68-8C1D-ACA99D09F10B}   \n",
       "\n",
       "   LowInc_30 Minority_7  OBJECTID    ShapeSTAre    ShapeSTLen taz_key  \n",
       "0        0.0        0.0     973.0  1.065169e+06   5052.595805   975.0  \n",
       "1        0.0        0.0      78.0  5.589527e+05   3105.877433    97.0  \n",
       "2        0.0        0.0      29.0  5.683611e+05   3256.613653    48.0  \n",
       "3        0.0        0.0     373.0  1.624917e+06   6363.483918   378.0  \n",
       "4        0.0        0.0    1451.0  6.440696e+06  22855.929170  1451.0  \n",
       "\n",
       "[5 rows x 26 columns]"
      ]
     },
     "execution_count": 15,
     "metadata": {},
     "output_type": "execute_result"
    }
   ],
   "source": [
    "taz_rentals2.head()"
   ]
  },
  {
   "cell_type": "code",
   "execution_count": 16,
   "metadata": {
    "collapsed": false
   },
   "outputs": [
    {
     "data": {
      "text/plain": [
       "139824"
      ]
     },
     "execution_count": 16,
     "metadata": {},
     "output_type": "execute_result"
    }
   ],
   "source": [
    "len(taz_rentals2)"
   ]
  },
  {
   "cell_type": "markdown",
   "metadata": {},
   "source": [
    "Initial code I wrote:\n",
    "\n",
    "zones_and_districts = gpd.sjoin(taz_zones, taz, how='left', op='within')\n",
    "\n",
    "This seemed to work, but many of the zones did not recieve super districts:\n",
    "\n",
    "len(zones_and_districts['SUPERD'].dropna()) = 940\n",
    "(instead of 1454, which it should be)\n",
    "\n",
    "I am assuing here it is not working because of the method to intersecting. The polygons that lie on \n",
    "the edge of a super district are not entirely within that superdistrict, so it won't record it.\n",
    "\n",
    "To account for this, I calculated the centroids of the zones and then inersected those with the super districts,\n",
    "using within.\n",
    "\n",
    "Note: I am worried about an alternative possibility - that the zones from the MTC actually cross the borders of the super districts for the NYU depository. Not sure how to check this without plotting, and plotting in python is a challenge. Will try to load them onto carto to get a better idea. "
   ]
  },
  {
   "cell_type": "code",
   "execution_count": 17,
   "metadata": {
    "collapsed": true
   },
   "outputs": [],
   "source": [
    "# Try to find centoirds of zones, then intersect with taz super districts\n",
    "\n",
    "# Make a new dataframe same as taz_zones but change the geometry to centroid points\n",
    "taz_centroids = taz_zones\n",
    "taz_centroids['geometry'] = taz_zones['geometry'].centroid"
   ]
  },
  {
   "cell_type": "code",
   "execution_count": 18,
   "metadata": {
    "collapsed": true
   },
   "outputs": [],
   "source": [
    "zones_and_districts = gpd.sjoin(taz_centroids, taz, how='left', op='within')"
   ]
  },
  {
   "cell_type": "code",
   "execution_count": 19,
   "metadata": {
    "collapsed": false
   },
   "outputs": [
    {
     "data": {
      "text/html": [
       "<div>\n",
       "<table border=\"1\" class=\"dataframe\">\n",
       "  <thead>\n",
       "    <tr style=\"text-align: right;\">\n",
       "      <th></th>\n",
       "      <th>CoCFlag</th>\n",
       "      <th>GEO_ID2</th>\n",
       "      <th>GlobalID</th>\n",
       "      <th>LowInc_30</th>\n",
       "      <th>Minority_7</th>\n",
       "      <th>OBJECTID</th>\n",
       "      <th>ShapeSTAre</th>\n",
       "      <th>ShapeSTLen</th>\n",
       "      <th>geometry</th>\n",
       "      <th>taz_key</th>\n",
       "      <th>index_right</th>\n",
       "      <th>AREALAND</th>\n",
       "      <th>AREAWATER</th>\n",
       "      <th>COUNT</th>\n",
       "      <th>COUNTY</th>\n",
       "      <th>LANDACRE</th>\n",
       "      <th>SUPERD</th>\n",
       "      <th>TOTPOP2000</th>\n",
       "      <th>WATERACRE</th>\n",
       "    </tr>\n",
       "  </thead>\n",
       "  <tbody>\n",
       "    <tr>\n",
       "      <th>0</th>\n",
       "      <td>0</td>\n",
       "      <td>06075012100</td>\n",
       "      <td>{65A7FBA7-B655-478C-9248-0F3582B80770}</td>\n",
       "      <td>1</td>\n",
       "      <td>0</td>\n",
       "      <td>1</td>\n",
       "      <td>198230.878906</td>\n",
       "      <td>2019.762990</td>\n",
       "      <td>POINT (551779.926430462 4182548.765352709)</td>\n",
       "      <td>6</td>\n",
       "      <td>0.0</td>\n",
       "      <td>21351865.0</td>\n",
       "      <td>499231994.0</td>\n",
       "      <td>46.0</td>\n",
       "      <td>1.0</td>\n",
       "      <td>5276.161</td>\n",
       "      <td>1.0</td>\n",
       "      <td>134389.0</td>\n",
       "      <td>123362.918</td>\n",
       "    </tr>\n",
       "    <tr>\n",
       "      <th>1</th>\n",
       "      <td>1</td>\n",
       "      <td>06075012300</td>\n",
       "      <td>{6B582A52-B64F-4716-8F58-96AB99560124}</td>\n",
       "      <td>1</td>\n",
       "      <td>0</td>\n",
       "      <td>2</td>\n",
       "      <td>296337.117188</td>\n",
       "      <td>2278.770513</td>\n",
       "      <td>POINT (551821.8933959281 4182290.042572366)</td>\n",
       "      <td>7</td>\n",
       "      <td>0.0</td>\n",
       "      <td>21351865.0</td>\n",
       "      <td>499231994.0</td>\n",
       "      <td>46.0</td>\n",
       "      <td>1.0</td>\n",
       "      <td>5276.161</td>\n",
       "      <td>1.0</td>\n",
       "      <td>134389.0</td>\n",
       "      <td>123362.918</td>\n",
       "    </tr>\n",
       "    <tr>\n",
       "      <th>2</th>\n",
       "      <td>1</td>\n",
       "      <td>06075012500</td>\n",
       "      <td>{FA3728FD-AB54-4546-896E-CBEC4B8FF83A}</td>\n",
       "      <td>1</td>\n",
       "      <td>0</td>\n",
       "      <td>3</td>\n",
       "      <td>319910.906250</td>\n",
       "      <td>2490.141633</td>\n",
       "      <td>POINT (551822.7386776448 4181937.042687816)</td>\n",
       "      <td>8</td>\n",
       "      <td>0.0</td>\n",
       "      <td>21351865.0</td>\n",
       "      <td>499231994.0</td>\n",
       "      <td>46.0</td>\n",
       "      <td>1.0</td>\n",
       "      <td>5276.161</td>\n",
       "      <td>1.0</td>\n",
       "      <td>134389.0</td>\n",
       "      <td>123362.918</td>\n",
       "    </tr>\n",
       "    <tr>\n",
       "      <th>3</th>\n",
       "      <td>1</td>\n",
       "      <td>06075012400</td>\n",
       "      <td>{F690C928-C472-4240-B0BF-44B778FF99B6}</td>\n",
       "      <td>1</td>\n",
       "      <td>0</td>\n",
       "      <td>4</td>\n",
       "      <td>726428.460938</td>\n",
       "      <td>3616.212017</td>\n",
       "      <td>POINT (551306.0527949079 4181647.324361625)</td>\n",
       "      <td>9</td>\n",
       "      <td>0.0</td>\n",
       "      <td>21351865.0</td>\n",
       "      <td>499231994.0</td>\n",
       "      <td>46.0</td>\n",
       "      <td>1.0</td>\n",
       "      <td>5276.161</td>\n",
       "      <td>1.0</td>\n",
       "      <td>134389.0</td>\n",
       "      <td>123362.918</td>\n",
       "    </tr>\n",
       "  </tbody>\n",
       "</table>\n",
       "</div>"
      ],
      "text/plain": [
       "   CoCFlag      GEO_ID2                                GlobalID  LowInc_30  \\\n",
       "0        0  06075012100  {65A7FBA7-B655-478C-9248-0F3582B80770}          1   \n",
       "1        1  06075012300  {6B582A52-B64F-4716-8F58-96AB99560124}          1   \n",
       "2        1  06075012500  {FA3728FD-AB54-4546-896E-CBEC4B8FF83A}          1   \n",
       "3        1  06075012400  {F690C928-C472-4240-B0BF-44B778FF99B6}          1   \n",
       "\n",
       "   Minority_7  OBJECTID     ShapeSTAre   ShapeSTLen  \\\n",
       "0           0         1  198230.878906  2019.762990   \n",
       "1           0         2  296337.117188  2278.770513   \n",
       "2           0         3  319910.906250  2490.141633   \n",
       "3           0         4  726428.460938  3616.212017   \n",
       "\n",
       "                                      geometry  taz_key  index_right  \\\n",
       "0   POINT (551779.926430462 4182548.765352709)        6          0.0   \n",
       "1  POINT (551821.8933959281 4182290.042572366)        7          0.0   \n",
       "2  POINT (551822.7386776448 4181937.042687816)        8          0.0   \n",
       "3  POINT (551306.0527949079 4181647.324361625)        9          0.0   \n",
       "\n",
       "     AREALAND    AREAWATER  COUNT  COUNTY  LANDACRE  SUPERD  TOTPOP2000  \\\n",
       "0  21351865.0  499231994.0   46.0     1.0  5276.161     1.0    134389.0   \n",
       "1  21351865.0  499231994.0   46.0     1.0  5276.161     1.0    134389.0   \n",
       "2  21351865.0  499231994.0   46.0     1.0  5276.161     1.0    134389.0   \n",
       "3  21351865.0  499231994.0   46.0     1.0  5276.161     1.0    134389.0   \n",
       "\n",
       "    WATERACRE  \n",
       "0  123362.918  \n",
       "1  123362.918  \n",
       "2  123362.918  \n",
       "3  123362.918  "
      ]
     },
     "execution_count": 19,
     "metadata": {},
     "output_type": "execute_result"
    }
   ],
   "source": [
    "zones_and_districts[:4]"
   ]
  },
  {
   "cell_type": "code",
   "execution_count": 20,
   "metadata": {
    "collapsed": false
   },
   "outputs": [],
   "source": [
    "# we don't need all those columns - only keep useful ones\n",
    "useful_cols = ['taz_key', 'SUPERD']\n",
    "z_d_subset = zones_and_districts[useful_cols]"
   ]
  },
  {
   "cell_type": "code",
   "execution_count": 21,
   "metadata": {
    "collapsed": false
   },
   "outputs": [
    {
     "data": {
      "text/html": [
       "<div>\n",
       "<table border=\"1\" class=\"dataframe\">\n",
       "  <thead>\n",
       "    <tr style=\"text-align: right;\">\n",
       "      <th></th>\n",
       "      <th>taz_key</th>\n",
       "      <th>SUPERD</th>\n",
       "    </tr>\n",
       "  </thead>\n",
       "  <tbody>\n",
       "    <tr>\n",
       "      <th>0</th>\n",
       "      <td>6</td>\n",
       "      <td>1.0</td>\n",
       "    </tr>\n",
       "    <tr>\n",
       "      <th>1</th>\n",
       "      <td>7</td>\n",
       "      <td>1.0</td>\n",
       "    </tr>\n",
       "    <tr>\n",
       "      <th>2</th>\n",
       "      <td>8</td>\n",
       "      <td>1.0</td>\n",
       "    </tr>\n",
       "  </tbody>\n",
       "</table>\n",
       "</div>"
      ],
      "text/plain": [
       "   taz_key  SUPERD\n",
       "0        6     1.0\n",
       "1        7     1.0\n",
       "2        8     1.0"
      ]
     },
     "execution_count": 21,
     "metadata": {},
     "output_type": "execute_result"
    }
   ],
   "source": [
    "z_d_subset[:3]"
   ]
  },
  {
   "cell_type": "code",
   "execution_count": 22,
   "metadata": {
    "collapsed": false
   },
   "outputs": [],
   "source": [
    "z_d_subset.to_csv('Data/zone_district_key.csv')"
   ]
  },
  {
   "cell_type": "code",
   "execution_count": 23,
   "metadata": {
    "collapsed": false
   },
   "outputs": [],
   "source": [
    "# Megrge the rental data, which has taz zones, with the zones and districts\n",
    "# which has super district ids\n",
    "\n",
    "# Select useful columns later\n",
    "\n",
    "rentals_complete = pd.merge(taz_rentals2, zones_and_districts, on='taz_key', how='left')"
   ]
  },
  {
   "cell_type": "code",
   "execution_count": 24,
   "metadata": {
    "collapsed": false
   },
   "outputs": [
    {
     "data": {
      "text/plain": [
       "139824"
      ]
     },
     "execution_count": 24,
     "metadata": {},
     "output_type": "execute_result"
    }
   ],
   "source": [
    "len(rentals_complete)"
   ]
  },
  {
   "cell_type": "code",
   "execution_count": 25,
   "metadata": {
    "collapsed": true
   },
   "outputs": [],
   "source": [
    "# All rental listings, with far more columns than needed. Can subset later.\n",
    "rentals_complete.to_csv('Data/rentals_with_tazIDs.csv')"
   ]
  }
 ],
 "metadata": {
  "anaconda-cloud": {},
  "kernelspec": {
   "display_name": "Python [default]",
   "language": "python",
   "name": "python3"
  },
  "language_info": {
   "codemirror_mode": {
    "name": "ipython",
    "version": 3
   },
   "file_extension": ".py",
   "mimetype": "text/x-python",
   "name": "python",
   "nbconvert_exporter": "python",
   "pygments_lexer": "ipython3",
   "version": "3.5.2"
  }
 },
 "nbformat": 4,
 "nbformat_minor": 1
}
